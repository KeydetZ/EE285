{
 "cells": [
  {
   "cell_type": "markdown",
   "metadata": {},
   "source": [
    "# Import Libraries"
   ]
  },
  {
   "cell_type": "code",
   "execution_count": 1,
   "metadata": {},
   "outputs": [
    {
     "ename": "ModuleNotFoundError",
     "evalue": "No module named 'pytorch'",
     "output_type": "error",
     "traceback": [
      "\u001b[0;31m---------------------------------------------------------------------------\u001b[0m",
      "\u001b[0;31mModuleNotFoundError\u001b[0m                       Traceback (most recent call last)",
      "\u001b[0;32m<ipython-input-1-463af10429d9>\u001b[0m in \u001b[0;36m<module>\u001b[0;34m()\u001b[0m\n\u001b[1;32m      9\u001b[0m \u001b[0;32mimport\u001b[0m \u001b[0mcsv\u001b[0m\u001b[0;34m\u001b[0m\u001b[0m\n\u001b[1;32m     10\u001b[0m \u001b[0;32mimport\u001b[0m \u001b[0mos\u001b[0m\u001b[0;34m\u001b[0m\u001b[0m\n\u001b[0;32m---> 11\u001b[0;31m \u001b[0;32mimport\u001b[0m \u001b[0mpytorch\u001b[0m\u001b[0;34m\u001b[0m\u001b[0m\n\u001b[0m\u001b[1;32m     12\u001b[0m \u001b[0;31m#import tensorflow as tf\u001b[0m\u001b[0;34m\u001b[0m\u001b[0;34m\u001b[0m\u001b[0m\n\u001b[1;32m     13\u001b[0m \u001b[0;32mfrom\u001b[0m \u001b[0mtensorflow\u001b[0m\u001b[0;34m.\u001b[0m\u001b[0mcontrib\u001b[0m\u001b[0;34m.\u001b[0m\u001b[0mlayers\u001b[0m \u001b[0;32mimport\u001b[0m \u001b[0mflatten\u001b[0m\u001b[0;34m\u001b[0m\u001b[0m\n",
      "\u001b[0;31mModuleNotFoundError\u001b[0m: No module named 'pytorch'"
     ]
    }
   ],
   "source": [
    "import pickle\n",
    "import numpy as np\n",
    "import matplotlib.pyplot as plt\n",
    "import random\n",
    "#import cv2\n",
    "import skimage.morphology as morp\n",
    "from skimage.filters import rank\n",
    "from sklearn.utils import shuffle\n",
    "import csv\n",
    "import os\n",
    "import pytorch\n",
    "#import tensorflow as tf\n",
    "from tensorflow.contrib.layers import flatten\n",
    "from sklearn.metrics import confusion_matrix"
   ]
  },
  {
   "cell_type": "markdown",
   "metadata": {},
   "source": [
    "# Load Data"
   ]
  },
  {
   "cell_type": "code",
   "execution_count": 21,
   "metadata": {},
   "outputs": [
    {
     "name": "stdout",
     "output_type": "stream",
     "text": [
      "(196, 7500)\n",
      "(421, 7500)\n"
     ]
    },
    {
     "ename": "TypeError",
     "evalue": "Population must be a sequence or set.  For dicts, use list(d).",
     "output_type": "error",
     "traceback": [
      "\u001b[0;31m---------------------------------------------------------------------------\u001b[0m",
      "\u001b[0;31mTypeError\u001b[0m                                 Traceback (most recent call last)",
      "\u001b[0;32m<ipython-input-21-dac0511c3fba>\u001b[0m in \u001b[0;36m<module>\u001b[0;34m()\u001b[0m\n\u001b[1;32m      8\u001b[0m \u001b[0;34m\u001b[0m\u001b[0m\n\u001b[1;32m      9\u001b[0m \u001b[0mimage_original\u001b[0m \u001b[0;34m=\u001b[0m \u001b[0mnp\u001b[0m\u001b[0;34m.\u001b[0m\u001b[0mvstack\u001b[0m\u001b[0;34m(\u001b[0m\u001b[0;34m(\u001b[0m\u001b[0mimages_mali\u001b[0m\u001b[0;34m,\u001b[0m\u001b[0mimages_benign\u001b[0m\u001b[0;34m)\u001b[0m\u001b[0;34m)\u001b[0m\u001b[0;34m\u001b[0m\u001b[0m\n\u001b[0;32m---> 10\u001b[0;31m \u001b[0mimage_sample\u001b[0m \u001b[0;34m=\u001b[0m \u001b[0mrandom\u001b[0m\u001b[0;34m.\u001b[0m\u001b[0msample\u001b[0m\u001b[0;34m(\u001b[0m\u001b[0mimage_original\u001b[0m\u001b[0;34m,\u001b[0m \u001b[0;36m600\u001b[0m\u001b[0;34m)\u001b[0m\u001b[0;34m\u001b[0m\u001b[0m\n\u001b[0m\u001b[1;32m     11\u001b[0m \u001b[0mprint\u001b[0m\u001b[0;34m(\u001b[0m\u001b[0mtype\u001b[0m\u001b[0;34m(\u001b[0m\u001b[0mimage_original\u001b[0m\u001b[0;34m)\u001b[0m\u001b[0;34m)\u001b[0m\u001b[0;34m\u001b[0m\u001b[0m\n\u001b[1;32m     12\u001b[0m \u001b[0;31m#train = image_sample[:400]\u001b[0m\u001b[0;34m\u001b[0m\u001b[0;34m\u001b[0m\u001b[0m\n",
      "\u001b[0;32m~/anaconda3/lib/python3.6/random.py\u001b[0m in \u001b[0;36msample\u001b[0;34m(self, population, k)\u001b[0m\n\u001b[1;32m    311\u001b[0m             \u001b[0mpopulation\u001b[0m \u001b[0;34m=\u001b[0m \u001b[0mtuple\u001b[0m\u001b[0;34m(\u001b[0m\u001b[0mpopulation\u001b[0m\u001b[0;34m)\u001b[0m\u001b[0;34m\u001b[0m\u001b[0m\n\u001b[1;32m    312\u001b[0m         \u001b[0;32mif\u001b[0m \u001b[0;32mnot\u001b[0m \u001b[0misinstance\u001b[0m\u001b[0;34m(\u001b[0m\u001b[0mpopulation\u001b[0m\u001b[0;34m,\u001b[0m \u001b[0m_Sequence\u001b[0m\u001b[0;34m)\u001b[0m\u001b[0;34m:\u001b[0m\u001b[0;34m\u001b[0m\u001b[0m\n\u001b[0;32m--> 313\u001b[0;31m             \u001b[0;32mraise\u001b[0m \u001b[0mTypeError\u001b[0m\u001b[0;34m(\u001b[0m\u001b[0;34m\"Population must be a sequence or set.  For dicts, use list(d).\"\u001b[0m\u001b[0;34m)\u001b[0m\u001b[0;34m\u001b[0m\u001b[0m\n\u001b[0m\u001b[1;32m    314\u001b[0m         \u001b[0mrandbelow\u001b[0m \u001b[0;34m=\u001b[0m \u001b[0mself\u001b[0m\u001b[0;34m.\u001b[0m\u001b[0m_randbelow\u001b[0m\u001b[0;34m\u001b[0m\u001b[0m\n\u001b[1;32m    315\u001b[0m         \u001b[0mn\u001b[0m \u001b[0;34m=\u001b[0m \u001b[0mlen\u001b[0m\u001b[0;34m(\u001b[0m\u001b[0mpopulation\u001b[0m\u001b[0;34m)\u001b[0m\u001b[0;34m\u001b[0m\u001b[0m\n",
      "\u001b[0;31mTypeError\u001b[0m: Population must be a sequence or set.  For dicts, use list(d)."
     ]
    }
   ],
   "source": [
    "# obtain data path\n",
    "images_mali = np.load('images_mali.npy')\n",
    "images_benign = np.load('images_benign.npy')\n",
    "#validation_file= \"./NAME\n",
    "#testing_file = \"./NAME\"\n",
    "print(images_mali.shape)\n",
    "print(images_benign.shape)\n",
    "\n",
    "image_original = np.vstack((images_mali,images_benign))\n",
    "image_sample = random.sample(image_original, 600)\n",
    "#print(type(image_original))\n",
    "#train = image_sample[:400]\n",
    "#test = image_sample[401:]\n",
    "## mali: 0\n",
    "## benign: 1\n",
    "x_label = np.zeros((196,1))\n",
    "y_label = np.ones((421,1))\n",
    "print(train.shape)\n",
    "labels = np.vstack((x_label,y_label))\n",
    "print(labels.shape)\n",
    "print(train.shape)\n",
    "#print(test.shape)\n",
    "#print(images_mali[1])"
   ]
  },
  {
   "cell_type": "code",
   "execution_count": 5,
   "metadata": {},
   "outputs": [
    {
     "ename": "NameError",
     "evalue": "name 'train' is not defined",
     "output_type": "error",
     "traceback": [
      "\u001b[0;31m---------------------------------------------------------------------------\u001b[0m",
      "\u001b[0;31mNameError\u001b[0m                                 Traceback (most recent call last)",
      "\u001b[0;32m<ipython-input-5-181f25ec14a7>\u001b[0m in \u001b[0;36m<module>\u001b[0;34m()\u001b[0m\n\u001b[1;32m      1\u001b[0m \u001b[0;31m# split into x and y for featurs and labels\u001b[0m\u001b[0;34m\u001b[0m\u001b[0;34m\u001b[0m\u001b[0m\n\u001b[0;32m----> 2\u001b[0;31m \u001b[0mX_train\u001b[0m\u001b[0;34m,\u001b[0m \u001b[0my_train\u001b[0m \u001b[0;34m=\u001b[0m \u001b[0mtrain\u001b[0m\u001b[0;34m[\u001b[0m\u001b[0;34m'COMPLETE'\u001b[0m\u001b[0;34m]\u001b[0m\u001b[0;34m,\u001b[0m \u001b[0mtrain\u001b[0m\u001b[0;34m[\u001b[0m\u001b[0;34m'COMPLETE'\u001b[0m\u001b[0;34m]\u001b[0m\u001b[0;34m\u001b[0m\u001b[0m\n\u001b[0m\u001b[1;32m      3\u001b[0m \u001b[0;31m#X_valid, y_valid = valid['COMPLETE'], valid['COMPLETE']\u001b[0m\u001b[0;34m\u001b[0m\u001b[0;34m\u001b[0m\u001b[0m\n\u001b[1;32m      4\u001b[0m \u001b[0mX_test\u001b[0m\u001b[0;34m,\u001b[0m \u001b[0my_test\u001b[0m \u001b[0;34m=\u001b[0m \u001b[0mtest\u001b[0m\u001b[0;34m[\u001b[0m\u001b[0;34m'COMPLETE'\u001b[0m\u001b[0;34m]\u001b[0m\u001b[0;34m,\u001b[0m \u001b[0mtest\u001b[0m\u001b[0;34m[\u001b[0m\u001b[0;34m'COMPLETE'\u001b[0m\u001b[0;34m]\u001b[0m\u001b[0;34m\u001b[0m\u001b[0m\n\u001b[1;32m      5\u001b[0m \u001b[0;34m\u001b[0m\u001b[0m\n",
      "\u001b[0;31mNameError\u001b[0m: name 'train' is not defined"
     ]
    }
   ],
   "source": [
    "# total number: 617\n",
    "# number of training samples: 400\n",
    "# size of x_train = 200\n",
    "# size of y_train = 200\n",
    "# number of testing samples: 217\n",
    "# size of x_test = 108\n",
    "# size of y_test = 109\n",
    "\n",
    "# split into x and y for featurs and labels\n",
    "x_idx, y_idx = random.sample(range(200), 150), ramdom.sample(range(200), 150)\n",
    "\n",
    "l=images_mali[x_idx,:]\n",
    "\n",
    "\n",
    "\n",
    "#X_valid, y_valid = valid['COMPLETE'], valid['COMPLETE']\n",
    "x_test, y_test = ramdom.sample(train)\n",
    "\n",
    "# Number of training examples\n",
    "n_train = X_train.shape[COMPLETE]\n",
    "\n",
    "# Number of testing examples\n",
    "n_test = X_test.shape[COMPLETE]\n",
    "\n",
    "# Number of validation examples.\n",
    "#n_validation = X_valid.shape[COMPLETE]\n",
    "\n",
    "# What's the shape of an image?\n",
    "image_shape = X_train[COMPLETE].shape\n",
    "\n",
    "# How many unique classes/labels there are in the dataset.\n",
    "n_classes = len(np.unique(y_train))\n",
    "\n",
    "print(\"Number of training examples: \", n_train)\n",
    "print(\"Number of testing examples: \", n_test)\n",
    "#print(\"Number of validation examples: \", n_validation)\n",
    "print(\"Image data shape =\", image_shape)\n",
    "print(\"Number of classes =\", n_classes)"
   ]
  },
  {
   "cell_type": "markdown",
   "metadata": {},
   "source": [
    "# Display images"
   ]
  },
  {
   "cell_type": "code",
   "execution_count": 8,
   "metadata": {
    "collapsed": true
   },
   "outputs": [],
   "source": [
    "# function to display the images\n",
    "def list_images(dataset, dataset_y, ylabel=\"\", cmap=None):\n",
    "    \n",
    "    ## change the figure size to reduce features.\n",
    "    #plt.figure(figsize=(15, 16))\n",
    "    plt.figure(figsize = (COMPLETE, COMPLETE))\n",
    "    \n",
    "    # n images to show.\n",
    "    for i in range(n):\n",
    "        plt.subplot(1, n, i+1)\n",
    "        indx = random.randint(0, len(dataset))\n",
    "        \n",
    "        #Use gray scale color map if there is only one channel\n",
    "        #cmap = 'gray' if len(dataset[indx].shape) == 2 else cmap\n",
    "        # In this case we prob need to use the RGB images.\n",
    "        #COMPLETE\n",
    "        plt.imshow(dataset[indx], cmap = cmap)\n",
    "        plt.xticks([])\n",
    "        plt.yticks([])\n",
    "    plt.tight_layout(pad=0, h_pad=0, w_pad=0)\n",
    "    plt.show()"
   ]
  },
  {
   "cell_type": "code",
   "execution_count": 9,
   "metadata": {},
   "outputs": [
    {
     "ename": "NameError",
     "evalue": "name 'X_train' is not defined",
     "output_type": "error",
     "traceback": [
      "\u001b[0;31m---------------------------------------------------------------------------\u001b[0m",
      "\u001b[0;31mNameError\u001b[0m                                 Traceback (most recent call last)",
      "\u001b[0;32m<ipython-input-9-5303ad19aa83>\u001b[0m in \u001b[0;36m<module>\u001b[0;34m()\u001b[0m\n\u001b[1;32m      1\u001b[0m \u001b[0;31m# plot the sample images\u001b[0m\u001b[0;34m\u001b[0m\u001b[0;34m\u001b[0m\u001b[0m\n\u001b[0;32m----> 2\u001b[0;31m \u001b[0mlist_images\u001b[0m\u001b[0;34m(\u001b[0m\u001b[0mX_train\u001b[0m\u001b[0;34m,\u001b[0m \u001b[0my_train\u001b[0m\u001b[0;34m)\u001b[0m\u001b[0;34m\u001b[0m\u001b[0m\n\u001b[0m\u001b[1;32m      3\u001b[0m \u001b[0mlist_images\u001b[0m\u001b[0;34m(\u001b[0m\u001b[0mX_test\u001b[0m\u001b[0;34m,\u001b[0m \u001b[0my_test\u001b[0m\u001b[0;34m)\u001b[0m\u001b[0;34m\u001b[0m\u001b[0m\n",
      "\u001b[0;31mNameError\u001b[0m: name 'X_train' is not defined"
     ]
    }
   ],
   "source": [
    "# plot the sample images\n",
    "list_images(X_train, y_train)\n",
    "list_images(X_test, y_test)"
   ]
  },
  {
   "cell_type": "markdown",
   "metadata": {},
   "source": [
    "# Data Pre-processing"
   ]
  },
  {
   "cell_type": "code",
   "execution_count": 10,
   "metadata": {},
   "outputs": [
    {
     "ename": "NameError",
     "evalue": "name 'X_train' is not defined",
     "output_type": "error",
     "traceback": [
      "\u001b[0;31m---------------------------------------------------------------------------\u001b[0m",
      "\u001b[0;31mNameError\u001b[0m                                 Traceback (most recent call last)",
      "\u001b[0;32m<ipython-input-10-23f36ee3acda>\u001b[0m in \u001b[0;36m<module>\u001b[0;34m()\u001b[0m\n\u001b[1;32m      1\u001b[0m \u001b[0;31m# shuffle the order of the training images to randomize\u001b[0m\u001b[0;34m\u001b[0m\u001b[0;34m\u001b[0m\u001b[0m\n\u001b[0;32m----> 2\u001b[0;31m \u001b[0mX_train\u001b[0m\u001b[0;34m,\u001b[0m \u001b[0my_train\u001b[0m \u001b[0;34m=\u001b[0m \u001b[0mshuffle\u001b[0m\u001b[0;34m(\u001b[0m\u001b[0mX_train\u001b[0m\u001b[0;34m,\u001b[0m \u001b[0my_train\u001b[0m\u001b[0;34m)\u001b[0m\u001b[0;34m\u001b[0m\u001b[0m\n\u001b[0m",
      "\u001b[0;31mNameError\u001b[0m: name 'X_train' is not defined"
     ]
    }
   ],
   "source": [
    "# shuffle the order of the training images to randomize\n",
    "X_train, y_train = shuffle(X_train, y_train)"
   ]
  },
  {
   "cell_type": "code",
   "execution_count": 11,
   "metadata": {
    "collapsed": true
   },
   "outputs": [],
   "source": [
    "# equalize the RGB images\n",
    "def local_equalize(image):\n",
    "    # change the size of kernel.\n",
    "    kernel = morp.disk(30)\n",
    "    img_local = rank.equalize(image, selem=kernel)\n",
    "    return img_local"
   ]
  },
  {
   "cell_type": "code",
   "execution_count": 12,
   "metadata": {},
   "outputs": [
    {
     "ename": "NameError",
     "evalue": "name 'COMPLETE' is not defined",
     "output_type": "error",
     "traceback": [
      "\u001b[0;31m---------------------------------------------------------------------------\u001b[0m",
      "\u001b[0;31mNameError\u001b[0m                                 Traceback (most recent call last)",
      "\u001b[0;32m<ipython-input-12-f6de7c43f58c>\u001b[0m in \u001b[0;36m<module>\u001b[0;34m()\u001b[0m\n\u001b[1;32m      1\u001b[0m \u001b[0;31m# Sample images after equalization\u001b[0m\u001b[0;34m\u001b[0m\u001b[0;34m\u001b[0m\u001b[0m\n\u001b[0;32m----> 2\u001b[0;31m \u001b[0mequalized_images\u001b[0m \u001b[0;34m=\u001b[0m \u001b[0mlist\u001b[0m\u001b[0;34m(\u001b[0m\u001b[0mmap\u001b[0m\u001b[0;34m(\u001b[0m\u001b[0mlocal_equalize\u001b[0m\u001b[0;34m,\u001b[0m \u001b[0mCOMPLETE\u001b[0m\u001b[0;34m)\u001b[0m\u001b[0;34m)\u001b[0m\u001b[0;34m\u001b[0m\u001b[0m\n\u001b[0m\u001b[1;32m      3\u001b[0m \u001b[0mlist_images\u001b[0m\u001b[0;34m(\u001b[0m\u001b[0mequalized_images\u001b[0m\u001b[0;34m,\u001b[0m \u001b[0my_train\u001b[0m\u001b[0;34m,\u001b[0m \u001b[0;34m\"Equalized Image\"\u001b[0m\u001b[0;34m,\u001b[0m \u001b[0;34m\"COMPLETE\"\u001b[0m\u001b[0;34m)\u001b[0m\u001b[0;31m# Sample images after equalization\u001b[0m\u001b[0;34m\u001b[0m\u001b[0m\n\u001b[1;32m      4\u001b[0m \u001b[0mequalized_images\u001b[0m \u001b[0;34m=\u001b[0m \u001b[0mlist\u001b[0m\u001b[0;34m(\u001b[0m\u001b[0mmap\u001b[0m\u001b[0;34m(\u001b[0m\u001b[0mlocal_equalize\u001b[0m\u001b[0;34m,\u001b[0m \u001b[0mCOMPLETE\u001b[0m\u001b[0;34m)\u001b[0m\u001b[0;34m)\u001b[0m\u001b[0;34m\u001b[0m\u001b[0m\n\u001b[1;32m      5\u001b[0m \u001b[0mlist_images\u001b[0m\u001b[0;34m(\u001b[0m\u001b[0mequalized_images\u001b[0m\u001b[0;34m,\u001b[0m \u001b[0my_train\u001b[0m\u001b[0;34m,\u001b[0m \u001b[0;34m\"Equalized Image\"\u001b[0m\u001b[0;34m,\u001b[0m \u001b[0;34m\"COMPLETE\"\u001b[0m\u001b[0;34m)\u001b[0m\u001b[0;34m\u001b[0m\u001b[0m\n",
      "\u001b[0;31mNameError\u001b[0m: name 'COMPLETE' is not defined"
     ]
    }
   ],
   "source": [
    "# Sample images after equalization\n",
    "equalized_images = list(map(local_equalize, COMPLETE))\n",
    "list_images(equalized_images, y_train, \"Equalized Image\", \"COMPLETE\")# Sample images after equalization\n",
    "equalized_images = list(map(local_equalize, COMPLETE))\n",
    "list_images(equalized_images, y_train, \"Equalized Image\", \"COMPLETE\")"
   ]
  },
  {
   "cell_type": "code",
   "execution_count": 13,
   "metadata": {
    "collapsed": true
   },
   "outputs": [],
   "source": [
    "# normalize the images on a 0 - 1 scale\n",
    "def image_normalize(image):\n",
    "    image = np.divide(image, 255)\n",
    "    return image"
   ]
  },
  {
   "cell_type": "code",
   "execution_count": 14,
   "metadata": {},
   "outputs": [
    {
     "ename": "NameError",
     "evalue": "name 'X_train' is not defined",
     "output_type": "error",
     "traceback": [
      "\u001b[0;31m---------------------------------------------------------------------------\u001b[0m",
      "\u001b[0;31mNameError\u001b[0m                                 Traceback (most recent call last)",
      "\u001b[0;32m<ipython-input-14-ecea4626bb5d>\u001b[0m in \u001b[0;36m<module>\u001b[0;34m()\u001b[0m\n\u001b[1;32m      1\u001b[0m \u001b[0;31m# sample images after normalizing\u001b[0m\u001b[0;34m\u001b[0m\u001b[0;34m\u001b[0m\u001b[0m\n\u001b[0;32m----> 2\u001b[0;31m \u001b[0mn_training\u001b[0m \u001b[0;34m=\u001b[0m \u001b[0mX_train\u001b[0m\u001b[0;34m.\u001b[0m\u001b[0mshape\u001b[0m\u001b[0;34m\u001b[0m\u001b[0m\n\u001b[0m\u001b[1;32m      3\u001b[0m \u001b[0mnormalized_images\u001b[0m \u001b[0;34m=\u001b[0m \u001b[0mnp\u001b[0m\u001b[0;34m.\u001b[0m\u001b[0mzeros\u001b[0m\u001b[0;34m(\u001b[0m\u001b[0;34m(\u001b[0m\u001b[0mn_training\u001b[0m\u001b[0;34m[\u001b[0m\u001b[0;36m0\u001b[0m\u001b[0;34m]\u001b[0m\u001b[0;34m,\u001b[0m \u001b[0mn_training\u001b[0m\u001b[0;34m[\u001b[0m\u001b[0;36m1\u001b[0m\u001b[0;34m]\u001b[0m\u001b[0;34m,\u001b[0m \u001b[0mn_training\u001b[0m\u001b[0;34m[\u001b[0m\u001b[0;36m2\u001b[0m\u001b[0;34m]\u001b[0m\u001b[0;34m)\u001b[0m\u001b[0;34m)\u001b[0m\u001b[0;34m\u001b[0m\u001b[0m\n\u001b[1;32m      4\u001b[0m \u001b[0;32mfor\u001b[0m \u001b[0mi\u001b[0m\u001b[0;34m,\u001b[0m \u001b[0mimg\u001b[0m \u001b[0;32min\u001b[0m \u001b[0menumerate\u001b[0m\u001b[0;34m(\u001b[0m\u001b[0mequalized_images\u001b[0m\u001b[0;34m)\u001b[0m\u001b[0;34m:\u001b[0m\u001b[0;34m\u001b[0m\u001b[0m\n\u001b[1;32m      5\u001b[0m     \u001b[0mnormalized_images\u001b[0m\u001b[0;34m[\u001b[0m\u001b[0mi\u001b[0m\u001b[0;34m]\u001b[0m \u001b[0;34m=\u001b[0m \u001b[0mimage_normalize\u001b[0m\u001b[0;34m(\u001b[0m\u001b[0mimg\u001b[0m\u001b[0;34m)\u001b[0m\u001b[0;34m\u001b[0m\u001b[0m\n",
      "\u001b[0;31mNameError\u001b[0m: name 'X_train' is not defined"
     ]
    }
   ],
   "source": [
    "# sample images after normalizing\n",
    "n_training = X_train.shape\n",
    "normalized_images = np.zeros((n_training[0], n_training[1], n_training[2]))\n",
    "for i, img in enumerate(equalized_images):\n",
    "    normalized_images[i] = image_normalize(img)\n",
    "list_images(normalized_images, y_train, \"Normalized Image\", \"COMPLETE\")\n",
    "normalized_images = normalized_images[..., None]"
   ]
  },
  {
   "cell_type": "markdown",
   "metadata": {},
   "source": [
    "# VGG"
   ]
  },
  {
   "cell_type": "code",
   "execution_count": 15,
   "metadata": {
    "collapsed": true
   },
   "outputs": [],
   "source": [
    "import torch.nn as nn"
   ]
  },
  {
   "cell_type": "code",
   "execution_count": 16,
   "metadata": {
    "collapsed": true
   },
   "outputs": [],
   "source": [
    "class VGG(nn.Module):\n",
    "\n",
    "    def __init__(self, features, num_classes= COMPLETE, init_weights=True):\n",
    "        super(VGG, self).__init__()\n",
    "        self.features = features\n",
    "        self.classifier = nn.Sequential(\n",
    "            nn.Linear(512 * 7 * 7, 4096),\n",
    "            nn.ReLU(True),\n",
    "            nn.Dropout(),\n",
    "            nn.Linear(4096, 4096),\n",
    "            nn.ReLU(True),\n",
    "            nn.Dropout(),\n",
    "            nn.Linear(4096, num_classes),\n",
    "        )\n",
    "        if init_weights:\n",
    "            self._initialize_weights()\n",
    "\n",
    "    def forward(self, x):\n",
    "        x = self.features(x)\n",
    "        x = x.view(x.size(0), -1)\n",
    "        x = self.classifier(x)\n",
    "        return x\n",
    "\n",
    "    def _initialize_weights(self):\n",
    "        for m in self.modules():\n",
    "            if isinstance(m, nn.Conv2d):\n",
    "                nn.init.kaiming_normal_(m.weight, mode='fan_out', nonlinearity='relu')\n",
    "                if m.bias is not None:\n",
    "                    nn.init.constant_(m.bias, 0)\n",
    "            elif isinstance(m, nn.BatchNorm2d):\n",
    "                nn.init.constant_(m.weight, 1)\n",
    "                nn.init.constant_(m.bias, 0)\n",
    "            elif isinstance(m, nn.Linear):\n",
    "                nn.init.normal_(m.weight, 0, 0.01)\n",
    "                nn.init.constant_(m.bias, 0)\n",
    "\n",
    "\n",
    "    def make_layers(cfg, batch_norm=False):\n",
    "        layers = []\n",
    "        in_channels = 3\n",
    "        for v in cfg:\n",
    "            if v == 'M':\n",
    "                layers += [nn.MaxPool2d(kernel_size=2, stride=2)]\n",
    "            else:\n",
    "                conv2d = nn.Conv2d(in_channels, v, kernel_size=3, padding=1)\n",
    "                if batch_norm:\n",
    "                    layers += [conv2d, nn.BatchNorm2d(v), nn.ReLU(inplace=True)]\n",
    "                else:\n",
    "                    layers += [conv2d, nn.ReLU(inplace=True)]\n",
    "                in_channels = v\n",
    "        return nn.Sequential(*layers)\n",
    "    cfg = {\n",
    "        'A': [64, 'M', 128, 'M', 256, 256, 'M', 512, 512, 'M', 512, 512, 'M'],\n",
    "        'B': [64, 64, 'M', 128, 128, 'M', 256, 256, 'M', 512, 512, 'M', 512, 512, 'M'],\n",
    "        'D': [64, 64, 'M', 128, 128, 'M', 256, 256, 256, 'M', 512, 512, 512, 'M', 512, 512, 512, 'M'],\n",
    "        'E': [64, 64, 'M', 128, 128, 'M', 256, 256, 256, 256, 'M', 512, 512, 512, 512, 'M', 512, 512, 512, 512, 'M'],\n",
    "    }\n",
    "\n",
    "\n",
    "    def vgg11(pretrained=False, **kwargs):\n",
    "        \"\"\"VGG 11-layer model (configuration \"A\")\n",
    "        Args:\n",
    "            pretrained (bool): If True, returns a model pre-trained on ImageNet\n",
    "        \"\"\"\n",
    "        if pretrained:\n",
    "            kwargs['init_weights'] = False\n",
    "        model = VGG(make_layers(cfg['A']), **kwargs)\n",
    "        if pretrained:\n",
    "            model.load_state_dict(model_zoo.load_url(model_urls['vgg11']))\n",
    "        return model\n",
    "\n",
    "\n",
    "    def vgg11_bn(pretrained=False, **kwargs):\n",
    "        \"\"\"VGG 11-layer model (configuration \"A\") with batch normalization\n",
    "        Args:\n",
    "            pretrained (bool): If True, returns a model pre-trained on ImageNet\n",
    "        \"\"\"\n",
    "        if pretrained:\n",
    "            kwargs['init_weights'] = False\n",
    "        model = VGG(make_layers(cfg['A'], batch_norm=True), **kwargs)\n",
    "        if pretrained:\n",
    "            model.load_state_dict(model_zoo.load_url(model_urls['vgg11_bn']))\n",
    "        return model\n",
    "\n",
    "\n",
    "    def vgg13(pretrained=False, **kwargs):\n",
    "        \"\"\"VGG 13-layer model (configuration \"B\")\n",
    "        Args:\n",
    "            pretrained (bool): If True, returns a model pre-trained on ImageNet\n",
    "        \"\"\"\n",
    "        if pretrained:\n",
    "            kwargs['init_weights'] = False\n",
    "        model = VGG(make_layers(cfg['B']), **kwargs)\n",
    "        if pretrained:\n",
    "            model.load_state_dict(model_zoo.load_url(model_urls['vgg13']))\n",
    "        return model\n",
    "\n",
    "\n",
    "    def vgg13_bn(pretrained=False, **kwargs):\n",
    "        \"\"\"VGG 13-layer model (configuration \"B\") with batch normalization\n",
    "        Args:\n",
    "            pretrained (bool): If True, returns a model pre-trained on ImageNet\n",
    "        \"\"\"\n",
    "        if pretrained:\n",
    "            kwargs['init_weights'] = False\n",
    "        model = VGG(make_layers(cfg['B'], batch_norm=True), **kwargs)\n",
    "        if pretrained:\n",
    "            model.load_state_dict(model_zoo.load_url(model_urls['vgg13_bn']))\n",
    "        return model\n",
    "\n",
    "\n",
    "    def vgg16(pretrained=False, **kwargs):\n",
    "        \"\"\"VGG 16-layer model (configuration \"D\")\n",
    "        Args:\n",
    "            pretrained (bool): If True, returns a model pre-trained on ImageNet\n",
    "        \"\"\"\n",
    "        if pretrained:\n",
    "            kwargs['init_weights'] = False\n",
    "        model = VGG(make_layers(cfg['D']), **kwargs)\n",
    "        if pretrained:\n",
    "            model.load_state_dict(model_zoo.load_url(model_urls['vgg16']))\n",
    "        return model\n",
    "\n",
    "\n",
    "    def vgg16_bn(pretrained=False, **kwargs):\n",
    "        \"\"\"VGG 16-layer model (configuration \"D\") with batch normalization\n",
    "        Args:\n",
    "            pretrained (bool): If True, returns a model pre-trained on ImageNet\n",
    "        \"\"\"\n",
    "        if pretrained:\n",
    "            kwargs['init_weights'] = False\n",
    "        model = VGG(make_layers(cfg['D'], batch_norm=True), **kwargs)\n",
    "        if pretrained:\n",
    "            model.load_state_dict(model_zoo.load_url(model_urls['vgg16_bn']))\n",
    "        return model\n",
    "\n",
    "\n",
    "    def vgg19(pretrained=False, **kwargs):\n",
    "        \"\"\"VGG 19-layer model (configuration \"E\")\n",
    "        Args:\n",
    "            pretrained (bool): If True, returns a model pre-trained on ImageNet\n",
    "        \"\"\"\n",
    "        if pretrained:\n",
    "            kwargs['init_weights'] = False\n",
    "        model = VGG(make_layers(cfg['E']), **kwargs)\n",
    "        if pretrained:\n",
    "            model.load_state_dict(model_zoo.load_url(model_urls['vgg19']))\n",
    "        return model\n",
    "\n",
    "\n",
    "    def vgg19_bn(pretrained=False, **kwargs):\n",
    "        \"\"\"VGG 19-layer model (configuration 'E') with batch normalization\n",
    "        Args:\n",
    "            pretrained (bool): If True, returns a model pre-trained on ImageNet\n",
    "        \"\"\"\n",
    "        if pretrained:\n",
    "            kwargs['init_weights'] = False\n",
    "        model = VGG(make_layers(cfg['E'], batch_norm=True), **kwargs)\n",
    "        if pretrained:\n",
    "            model.load_state_dict(model_zoo.load_url(model_urls['vgg19_bn']))\n",
    "        return model"
   ]
  },
  {
   "cell_type": "markdown",
   "metadata": {},
   "source": [
    "#  Train the network"
   ]
  },
  {
   "cell_type": "code",
   "execution_count": null,
   "metadata": {
    "collapsed": true
   },
   "outputs": [],
   "source": []
  }
 ],
 "metadata": {
  "kernelspec": {
   "display_name": "Python 3",
   "language": "python",
   "name": "python3"
  },
  "language_info": {
   "codemirror_mode": {
    "name": "ipython",
    "version": 3
   },
   "file_extension": ".py",
   "mimetype": "text/x-python",
   "name": "python",
   "nbconvert_exporter": "python",
   "pygments_lexer": "ipython3",
   "version": "3.6.3"
  }
 },
 "nbformat": 4,
 "nbformat_minor": 2
}
