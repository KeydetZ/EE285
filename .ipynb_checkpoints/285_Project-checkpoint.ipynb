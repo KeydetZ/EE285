{
 "cells": [
  {
   "cell_type": "markdown",
   "metadata": {},
   "source": [
    "# Import Libraries"
   ]
  },
  {
   "cell_type": "code",
   "execution_count": 1,
   "metadata": {},
   "outputs": [],
   "source": [
    "import pickle\n",
    "import numpy as np\n",
    "import matplotlib.pyplot as plt\n",
    "import random\n",
    "import cv2\n",
    "import skimage.morphology as morp\n",
    "from skimage.filters import rank\n",
    "from sklearn.utils import shuffle\n",
    "import csv\n",
    "import os\n",
    "#import pytorch\n",
    "#import tensorflow as tf\n",
    "from tensorflow.contrib.layers import flatten\n",
    "from sklearn.metrics import confusion_matrix"
   ]
  },
  {
   "cell_type": "markdown",
   "metadata": {},
   "source": [
    "# Load Data"
   ]
  },
  {
   "cell_type": "code",
   "execution_count": 2,
   "metadata": {},
   "outputs": [
    {
     "name": "stdout",
     "output_type": "stream",
     "text": [
      "(196, 7500)\n",
      "(196, 50, 50, 3)\n",
      "(421, 50, 50, 3)\n",
      "(617, 1)\n"
     ]
    }
   ],
   "source": [
    "# obtain data path\n",
    "images_mali = np.load('images_mali.npy')\n",
    "print(images_mali.shape)\n",
    "images_mali = np.reshape(images_mali,(images_mali.shape[0], 50,50,3))\n",
    "\n",
    "images_benign = np.load('images_benign.npy')\n",
    "images_benign = np.reshape(images_benign,(images_benign.shape[0], 50,50,3))\n",
    "\n",
    "#validation_file= \"./NAME\n",
    "#testing_file = \"./NAME\"\n",
    "print(images_mali.shape)\n",
    "print(images_benign.shape)\n",
    "\n",
    "image_original = np.vstack((images_mali,images_benign))\n",
    "#image_sample = random.sample(image_original, 600)\n",
    "#print(type(image_original))\n",
    "#train = image_sample[:400]\n",
    "#test = image_sample[401:]\n",
    "## mali: 0\n",
    "## benign: 1\n",
    "x_label = np.zeros((196,1))\n",
    "y_label = np.ones((421,1))\n",
    "#print(train.shape)\n",
    "labels = np.vstack((x_label,y_label))\n",
    "print(labels.shape)\n",
    "#print(train.shape)\n",
    "#print(test.shape)\n",
    "#print(images_mali[1])"
   ]
  },
  {
   "cell_type": "code",
   "execution_count": 3,
   "metadata": {},
   "outputs": [
    {
     "name": "stdout",
     "output_type": "stream",
     "text": [
      "<class 'numpy.ndarray'>\n",
      "Number of x_training examples:  (150, 50, 50, 3)\n",
      "Number of y_training examples:  (150, 50, 50, 3)\n",
      "Image data shape = (50, 50, 3)\n",
      "Number of x_testing examples:  (30, 50, 50, 3)\n",
      "Number of y_testing examples:  (150, 50, 50, 3)\n",
      "Number of classes = 2\n"
     ]
    }
   ],
   "source": [
    "# total number: 617\n",
    "# number of training samples: 400\n",
    "# size of x_train = 200\n",
    "# size of y_train = 200\n",
    "# number of testing samples: 217\n",
    "# size of x_test = 108\n",
    "# size of y_test = 109\n",
    "\n",
    "train_percentage = 0.8\n",
    "test_percentage = 0.2\n",
    "\n",
    "size_mali = len(images_mali)\n",
    "size_benign = len(images_benign)\n",
    "size_data = size_benign+size_mali\n",
    "\n",
    "# split into x and y for featurs and labels\n",
    "xtrain_idx, ytrain_idx = random.sample(range(int(size_mali*train_percentage)), 150), \\\n",
    "    random.sample(range(size_mali+1,int(size_mali*train_percentage)+size_benign), 150)\n",
    "\n",
    "xtest_idx, ytest_idx = random.sample(range(int(size_mali*test_percentage)), 30), \\\n",
    "random.sample(range(size_mali+1,int(size_mali*train_percentage)+size_benign), 150)\n",
    "\n",
    "x_train = image_original[xtrain_idx,:]\n",
    "y_train = image_original[ytrain_idx,:]\n",
    "x_test = image_original[xtest_idx,:]\n",
    "y_test = image_original[ytest_idx,:]\n",
    "x_label = labels[xtrain_idx,:]\n",
    "y_label = labels[ytrain_idx,:]\n",
    "image_shape = x_train[0].shape\n",
    "\n",
    "print(type(x_label[1]))\n",
    "print(\"Number of x_training examples: \", x_train.shape)\n",
    "print(\"Number of y_training examples: \", y_train.shape)\n",
    "\n",
    "print(\"Image data shape =\", image_shape)\n",
    "print(\"Number of x_testing examples: \", x_test.shape)\n",
    "print(\"Number of y_testing examples: \", y_test.shape)\n",
    "#print(\"Number of testing examples: \", n_test)\n",
    "#print(\"Number of validation examples: \", n_validation)\n",
    "#print(\"Image data shape =\", image_shape)\n",
    "print(\"Number of classes =\", 2)"
   ]
  },
  {
   "cell_type": "markdown",
   "metadata": {},
   "source": [
    "# Display images"
   ]
  },
  {
   "cell_type": "code",
   "execution_count": 4,
   "metadata": {
    "collapsed": true
   },
   "outputs": [],
   "source": [
    "# function to display the images\n",
    "def list_images(dataset, dataset_y, ylabel=\"\", cmap=None):\n",
    "    plt.figure(figsize=(15, 16))\n",
    "    for i in range(6):\n",
    "        plt.subplot(1, 6, i+1)\n",
    "        indx = random.randint(0, len(dataset))\n",
    "        #Use gray scale color map if there is only one channel\n",
    "        cmap = 'gray' if len(dataset[indx].shape) == 2 else cmap\n",
    "        plt.imshow(dataset[indx], cmap = cmap)\n",
    "        #plt.xlabel(signs[dataset_y[indx]])\n",
    "        #plt.ylabel(ylabel)\n",
    "        plt.xticks([])\n",
    "        plt.yticks([])\n",
    "    #plt.tight_layout(pad=0, h_pad=0, w_pad=0)\n",
    "    plt.show()"
   ]
  },
  {
   "cell_type": "code",
   "execution_count": 9,
   "metadata": {},
   "outputs": [
    {
     "data": {
      "image/png": "iVBORw0KGgoAAAANSUhEUgAAA1oAAACMCAYAAABlLdgxAAAABHNCSVQICAgIfAhkiAAAAAlwSFlz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\nAAAAAElFTkSuQmCC\n",
      "text/plain": [
       "<matplotlib.figure.Figure at 0x1c34dc6208>"
      ]
     },
     "metadata": {},
     "output_type": "display_data"
    },
    {
     "ename": "IndexError",
     "evalue": "index 30 is out of bounds for axis 0 with size 30",
     "output_type": "error",
     "traceback": [
      "\u001b[0;31m---------------------------------------------------------------------------\u001b[0m",
      "\u001b[0;31mIndexError\u001b[0m                                Traceback (most recent call last)",
      "\u001b[0;32m<ipython-input-9-4b76e22c4160>\u001b[0m in \u001b[0;36m<module>\u001b[0;34m()\u001b[0m\n\u001b[1;32m      1\u001b[0m \u001b[0;31m# plot the sample images\u001b[0m\u001b[0;34m\u001b[0m\u001b[0;34m\u001b[0m\u001b[0m\n\u001b[1;32m      2\u001b[0m \u001b[0mlist_images\u001b[0m\u001b[0;34m(\u001b[0m\u001b[0mx_train\u001b[0m\u001b[0;34m,\u001b[0m \u001b[0my_train\u001b[0m\u001b[0;34m)\u001b[0m\u001b[0;34m\u001b[0m\u001b[0m\n\u001b[0;32m----> 3\u001b[0;31m \u001b[0mlist_images\u001b[0m\u001b[0;34m(\u001b[0m\u001b[0mx_test\u001b[0m\u001b[0;34m,\u001b[0m \u001b[0my_test\u001b[0m\u001b[0;34m)\u001b[0m\u001b[0;34m\u001b[0m\u001b[0m\n\u001b[0m",
      "\u001b[0;32m<ipython-input-4-c1bcc3d1941a>\u001b[0m in \u001b[0;36mlist_images\u001b[0;34m(dataset, dataset_y, ylabel, cmap)\u001b[0m\n\u001b[1;32m      6\u001b[0m         \u001b[0mindx\u001b[0m \u001b[0;34m=\u001b[0m \u001b[0mrandom\u001b[0m\u001b[0;34m.\u001b[0m\u001b[0mrandint\u001b[0m\u001b[0;34m(\u001b[0m\u001b[0;36m0\u001b[0m\u001b[0;34m,\u001b[0m \u001b[0mlen\u001b[0m\u001b[0;34m(\u001b[0m\u001b[0mdataset\u001b[0m\u001b[0;34m)\u001b[0m\u001b[0;34m)\u001b[0m\u001b[0;34m\u001b[0m\u001b[0m\n\u001b[1;32m      7\u001b[0m         \u001b[0;31m#Use gray scale color map if there is only one channel\u001b[0m\u001b[0;34m\u001b[0m\u001b[0;34m\u001b[0m\u001b[0m\n\u001b[0;32m----> 8\u001b[0;31m         \u001b[0mcmap\u001b[0m \u001b[0;34m=\u001b[0m \u001b[0;34m'gray'\u001b[0m \u001b[0;32mif\u001b[0m \u001b[0mlen\u001b[0m\u001b[0;34m(\u001b[0m\u001b[0mdataset\u001b[0m\u001b[0;34m[\u001b[0m\u001b[0mindx\u001b[0m\u001b[0;34m]\u001b[0m\u001b[0;34m.\u001b[0m\u001b[0mshape\u001b[0m\u001b[0;34m)\u001b[0m \u001b[0;34m==\u001b[0m \u001b[0;36m2\u001b[0m \u001b[0;32melse\u001b[0m \u001b[0mcmap\u001b[0m\u001b[0;34m\u001b[0m\u001b[0m\n\u001b[0m\u001b[1;32m      9\u001b[0m         \u001b[0mplt\u001b[0m\u001b[0;34m.\u001b[0m\u001b[0mimshow\u001b[0m\u001b[0;34m(\u001b[0m\u001b[0mdataset\u001b[0m\u001b[0;34m[\u001b[0m\u001b[0mindx\u001b[0m\u001b[0;34m]\u001b[0m\u001b[0;34m,\u001b[0m \u001b[0mcmap\u001b[0m \u001b[0;34m=\u001b[0m \u001b[0mcmap\u001b[0m\u001b[0;34m)\u001b[0m\u001b[0;34m\u001b[0m\u001b[0m\n\u001b[1;32m     10\u001b[0m         \u001b[0;31m#plt.xlabel(signs[dataset_y[indx]])\u001b[0m\u001b[0;34m\u001b[0m\u001b[0;34m\u001b[0m\u001b[0m\n",
      "\u001b[0;31mIndexError\u001b[0m: index 30 is out of bounds for axis 0 with size 30"
     ]
    }
   ],
   "source": [
    "# plot the sample images\n",
    "list_images(x_train, y_train)\n",
    "list_images(x_test, y_test)"
   ]
  },
  {
   "cell_type": "code",
   "execution_count": 20,
   "metadata": {
    "collapsed": true
   },
   "outputs": [],
   "source": [
    "# convert images to gray scale\n",
    "def gray_scale(image = x_train):\n",
    "    return cv2.cvtColor(image, cv2.COLOR_RGB2GRAY)"
   ]
  },
  {
   "cell_type": "code",
<<<<<<< HEAD
   "execution_count": 21,
=======
   "execution_count": 25,
   "metadata": {
    "scrolled": true
   },
   "outputs": [
    {
     "name": "stdout",
     "output_type": "stream",
     "text": [
      "(150, 7500)\n",
      "[ 0.12941176  0.60784314  0.49019608  0.06666667  0.62352941  0.41176471\n",
      "  0.41960784 -0.05098039 -0.06666667  0.1372549  -0.41960784  0.22352941\n",
      "  0.4745098   0.10588235  0.31764706  0.25490196  0.33333333  0.3254902\n",
      " -0.4745098  -0.18431373 -0.01960784  0.21568627  0.34117647  0.38039216\n",
      "  0.49019608 -0.56078431  0.12156863  0.2627451  -0.02745098 -0.05098039\n",
      " -0.37254902  0.01960784  0.30980392  0.27058824  0.16862745  0.23921569\n",
      "  0.21568627  0.52156863  0.08235294  0.09803922  0.2         0.31764706\n",
      "  0.6         0.62352941 -0.1372549  -0.21568627  0.16078431  0.05882353\n",
      "  0.23137255  0.10588235  0.12941176  0.8745098   0.85882353  0.3254902\n",
      " -0.36470588  0.11372549 -0.59215686 -0.18431373  0.3254902   0.34901961\n",
      "  0.4745098   0.15294118  0.17647059  0.60784314  0.33333333  0.6\n",
      "  0.9372549   0.35686275  0.42745098  0.18431373  0.3254902   0.41960784\n",
      "  0.48235294  0.41176471  0.3254902   0.05882353  0.12156863  0.36470588\n",
      " -0.4745098   0.5372549   0.70980392 -0.64705882  0.25490196  0.15294118\n",
      "  0.61568627  0.39607843  0.20784314  0.28627451  0.27058824  0.23137255\n",
      "  0.78823529 -0.96078431  0.06666667 -0.52941176  0.38039216  0.36470588\n",
      "  0.51372549  0.61568627  0.42745098  0.37254902 -0.00392157  0.31764706\n",
      "  0.35686275 -0.02745098  0.20784314  0.38823529  0.35686275  0.20784314\n",
      "  0.27058824  0.24705882  0.40392157  0.30980392  0.45098039  0.35686275\n",
      "  0.14509804 -0.69411765 -0.56078431  0.41176471  0.42745098  0.37254902\n",
      "  0.1372549   0.42745098 -0.34117647  0.54509804  0.0745098   0.46666667\n",
      " -0.05882353  0.43529412  0.33333333  0.27843137  0.30980392  0.45882353\n",
      " -0.88235294  0.59215686  0.23137255  0.25490196  0.41176471  0.10588235\n",
      "  0.36470588 -0.04313725 -0.21568627  0.16078431  0.27058824  0.41960784\n",
      " -0.14509804  0.12156863  0.38823529 -0.40392157 -0.02745098  0.16078431]\n",
      "[ 0.0745098  -0.1372549   0.30196078  0.59215686  0.84313725  0.22352941\n",
      "  0.22352941  0.22352941  0.49803922  0.27058824  0.36470588  0.52156863\n",
      "  0.33333333  0.44313725  0.35686275  0.44313725  0.2627451   0.48235294\n",
      "  0.12941176  0.54509804  0.17647059  0.16862745  0.74117647  0.81960784\n",
      "  0.28627451  0.27058824  0.40392157  0.40392157  0.3254902  -0.01960784\n",
      "  0.17647059  0.37254902  0.34901961  0.01176471  0.79607843  0.46666667\n",
      "  0.64705882  0.15294118  0.41176471  0.39607843  0.34117647  0.30196078\n",
      "  0.6627451   0.30980392  0.48235294  0.30196078  0.15294118  0.27058824\n",
      " -0.12941176  0.27843137  0.44313725  0.16862745  0.4745098   0.18431373\n",
      "  0.35686275  0.5372549   0.37254902  0.71764706  0.74901961  0.2\n",
      "  0.50588235  0.31764706 -0.09803922  0.0745098   0.23137255  0.4745098\n",
      "  0.17647059  0.2         0.15294118  0.56862745  0.37254902  0.25490196\n",
      "  0.39607843  0.27843137  0.52941176  0.27843137  0.14509804  0.23921569\n",
      "  0.14509804  0.49019608  1.          0.45882353  0.25490196  0.25490196\n",
      "  0.35686275  0.5372549   0.52156863  0.42745098  0.20784314  0.10588235\n",
      "  0.24705882  0.10588235  0.67058824  0.20784314  0.31764706  0.01176471\n",
      "  0.29411765  0.3254902   0.09019608  0.18431373  0.52941176  0.45882353\n",
      "  0.37254902  0.4745098   0.19215686  0.55294118  0.23137255  0.2627451\n",
      "  0.40392157  0.22352941  0.16862745  0.06666667  0.22352941 -0.10588235\n",
      "  0.50588235  0.45098039  0.41176471  0.55294118  0.4745098   0.14509804\n",
      "  0.45098039  0.31764706  0.22352941  0.67843137  0.46666667 -0.27843137\n",
      "  0.34117647  0.23921569  0.39607843  0.21568627  0.49803922  0.41176471\n",
      "  0.2627451   0.39607843  0.33333333  0.10588235 -0.19215686  0.55294118\n",
      "  0.23921569  0.22352941  0.21568627  0.21568627  0.86666667  0.25490196\n",
      "  0.24705882  0.23921569  0.01176471  0.45882353  0.14509804  0.27843137]\n"
     ]
    }
   ],
   "source": [
    "x_train = normalize_images(x_train)\n",
    "y_train = normalize_images(y_train)\n",
    "print(x_train.shape)\n",
    "print(x_train[:,1])\n",
    "print(y_train[:,1])"
   ]
  },
  {
   "cell_type": "code",
   "execution_count": 45,
   "metadata": {
    "collapsed": true
   },
   "outputs": [],
   "source": [
    "def label2onehot(lbl):\n",
    "    d = np.zeros((2, lbl.size))\n",
    "    #for i in range(lbl.size):\n",
    "        #d[lbl[i], i] = 1\n",
    "    d[lbl, np.arange(0, lbl.size)] = 1\n",
    "    return d"
   ]
  },
  {
   "cell_type": "code",
   "execution_count": 46,
>>>>>>> ad9a678c2441dae6a3092efacc7a2d80b93371b6
   "metadata": {},
   "outputs": [
    {
     "ename": "error",
     "evalue": "OpenCV(3.4.4) /Users/travis/build/skvark/opencv-python/opencv/modules/imgproc/src/color.hpp:257: error: (-2:Unspecified error) in function 'cv::CvtHelper<cv::Set<3, 4, -1>, cv::Set<1, -1, -1>, cv::Set<0, 2, 5>, cv::SizePolicy::NONE>::CvtHelper(InputArray, OutputArray, int) [VScn = cv::Set<3, 4, -1>, VDcn = cv::Set<1, -1, -1>, VDepth = cv::Set<0, 2, 5>, sizePolicy = cv::SizePolicy::NONE]'\n> Unsupported depth of input image:\n>     'VDepth::contains(depth)'\n> where\n>     'depth' is 6 (CV_64F)\n",
     "output_type": "error",
     "traceback": [
      "\u001b[0;31m---------------------------------------------------------------------------\u001b[0m",
      "\u001b[0;31merror\u001b[0m                                     Traceback (most recent call last)",
      "\u001b[0;32m<ipython-input-21-88cd9227c060>\u001b[0m in \u001b[0;36m<module>\u001b[0;34m()\u001b[0m\n\u001b[1;32m      1\u001b[0m \u001b[0;31m# sample images after greyscaling\u001b[0m\u001b[0;34m\u001b[0m\u001b[0;34m\u001b[0m\u001b[0m\n\u001b[0;32m----> 2\u001b[0;31m \u001b[0mgray_images\u001b[0m \u001b[0;34m=\u001b[0m \u001b[0mlist\u001b[0m\u001b[0;34m(\u001b[0m\u001b[0mmap\u001b[0m\u001b[0;34m(\u001b[0m\u001b[0mgray_scale\u001b[0m\u001b[0;34m,\u001b[0m \u001b[0mx_train\u001b[0m\u001b[0;34m)\u001b[0m\u001b[0;34m)\u001b[0m\u001b[0;34m\u001b[0m\u001b[0m\n\u001b[0m\u001b[1;32m      3\u001b[0m \u001b[0mlist_images\u001b[0m\u001b[0;34m(\u001b[0m\u001b[0mgray_images\u001b[0m\u001b[0;34m,\u001b[0m \u001b[0my_train\u001b[0m\u001b[0;34m,\u001b[0m \u001b[0;34m\"Gray Scale image\"\u001b[0m\u001b[0;34m,\u001b[0m \u001b[0;34m\"gray\"\u001b[0m\u001b[0;34m)\u001b[0m\u001b[0;34m\u001b[0m\u001b[0m\n",
      "\u001b[0;32m<ipython-input-20-45592b2d0b94>\u001b[0m in \u001b[0;36mgray_scale\u001b[0;34m(image)\u001b[0m\n\u001b[1;32m      1\u001b[0m \u001b[0;31m# convert images to gray scale\u001b[0m\u001b[0;34m\u001b[0m\u001b[0;34m\u001b[0m\u001b[0m\n\u001b[1;32m      2\u001b[0m \u001b[0;32mdef\u001b[0m \u001b[0mgray_scale\u001b[0m\u001b[0;34m(\u001b[0m\u001b[0mimage\u001b[0m \u001b[0;34m=\u001b[0m \u001b[0mx_train\u001b[0m\u001b[0;34m)\u001b[0m\u001b[0;34m:\u001b[0m\u001b[0;34m\u001b[0m\u001b[0m\n\u001b[0;32m----> 3\u001b[0;31m     \u001b[0;32mreturn\u001b[0m \u001b[0mcv2\u001b[0m\u001b[0;34m.\u001b[0m\u001b[0mcvtColor\u001b[0m\u001b[0;34m(\u001b[0m\u001b[0mimage\u001b[0m\u001b[0;34m,\u001b[0m \u001b[0mcv2\u001b[0m\u001b[0;34m.\u001b[0m\u001b[0mCOLOR_RGB2GRAY\u001b[0m\u001b[0;34m)\u001b[0m\u001b[0;34m\u001b[0m\u001b[0m\n\u001b[0m",
      "\u001b[0;31merror\u001b[0m: OpenCV(3.4.4) /Users/travis/build/skvark/opencv-python/opencv/modules/imgproc/src/color.hpp:257: error: (-2:Unspecified error) in function 'cv::CvtHelper<cv::Set<3, 4, -1>, cv::Set<1, -1, -1>, cv::Set<0, 2, 5>, cv::SizePolicy::NONE>::CvtHelper(InputArray, OutputArray, int) [VScn = cv::Set<3, 4, -1>, VDcn = cv::Set<1, -1, -1>, VDepth = cv::Set<0, 2, 5>, sizePolicy = cv::SizePolicy::NONE]'\n> Unsupported depth of input image:\n>     'VDepth::contains(depth)'\n> where\n>     'depth' is 6 (CV_64F)\n"
     ]
    }
   ],
   "source": [
    "# sample images after greyscaling\n",
    "gray_images = list(map(gray_scale, x_train))\n",
    "list_images(gray_images, y_train, \"Gray Scale image\", \"gray\")"
   ]
  },
  {
   "cell_type": "code",
   "execution_count": null,
   "metadata": {
    "collapsed": true
   },
   "outputs": [],
   "source": [
    "# equalize the grayscale images\n",
    "def local_equalize(image):\n",
    "    kernel = morp.disk(30)\n",
    "    img_local = rank.equalize(image, selem=kernel)\n",
    "    return img_local"
   ]
  },
  {
   "cell_type": "code",
   "execution_count": null,
   "metadata": {
    "collapsed": true
   },
   "outputs": [],
   "source": [
    "# Sample images after equalization\n",
    "equalized_images = list(map(local_equalize, gray_images))\n",
    "list_images(equalized_images, y_train, \"Equalized Image\", \"gray\")"
   ]
  },
  {
   "cell_type": "code",
   "execution_count": null,
   "metadata": {
    "collapsed": true
   },
   "outputs": [],
   "source": [
    "# normalize the images on a 0 - 1 scale\n",
    "def image_normalize(image):\n",
    "    image = np.divide(image, 255)\n",
    "    return image"
   ]
  },
  {
   "cell_type": "code",
   "execution_count": null,
   "metadata": {
    "collapsed": true
   },
   "outputs": [],
   "source": [
    "# sample images after normalizing\n",
    "n_training = X_train.shape\n",
    "normalized_images = np.zeros((n_training[0], n_training[1], n_training[2]))\n",
    "for i, img in enumerate(equalized_images):\n",
    "    normalized_images[i] = image_normalize(img)\n",
    "list_images(normalized_images, y_train, \"Normalized Image\", \"gray\")\n",
    "normalized_images = normalized_images[..., None]"
   ]
  },
  {
   "cell_type": "code",
   "execution_count": null,
   "metadata": {
    "collapsed": true
   },
   "outputs": [],
   "source": [
    "# preprocess the inputs\n",
    "def preprocess(data):\n",
    "    gray_images = list(map(gray_scale, data))\n",
    "    equalized_images = list(map(local_equalize, gray_images))\n",
    "    n_training = data.shape\n",
    "    normalized_images = np.zeros((n_training[0], n_training[1], n_training[2]))\n",
    "    for i, img in enumerate(equalized_images):\n",
    "        normalized_images[i] = image_normalize(img)\n",
    "    normalized_images = normalized_images[..., None]\n",
    "    return normalized_images"
   ]
  },
  {
   "cell_type": "markdown",
   "metadata": {},
   "source": [
    "# VGG"
   ]
  },
  {
   "cell_type": "code",
   "execution_count": null,
   "metadata": {
    "collapsed": true
   },
   "outputs": [],
   "source": [
    "import torch.nn as nn"
   ]
  },
  {
   "cell_type": "code",
   "execution_count": null,
   "metadata": {
    "collapsed": true
   },
   "outputs": [],
   "source": [
    "class VGG(nn.Module):\n",
    "\n",
    "    def __init__(self, features, num_classes= COMPLETE, init_weights=True):\n",
    "        super(VGG, self).__init__()\n",
    "        self.features = features\n",
    "        self.classifier = nn.Sequential(\n",
    "            nn.Linear(512 * 7 * 7, 4096),\n",
    "            nn.ReLU(True),\n",
    "            nn.Dropout(),\n",
    "            nn.Linear(4096, 4096),\n",
    "            nn.ReLU(True),\n",
    "            nn.Dropout(),\n",
    "            nn.Linear(4096, num_classes),\n",
    "        )\n",
    "        if init_weights:\n",
    "            self._initialize_weights()\n",
    "\n",
    "    def forward(self, x):\n",
    "        x = self.features(x)\n",
    "        x = x.view(x.size(0), -1)\n",
    "        x = self.classifier(x)\n",
    "        return x\n",
    "\n",
    "    def _initialize_weights(self):\n",
    "        for m in self.modules():\n",
    "            if isinstance(m, nn.Conv2d):\n",
    "                nn.init.kaiming_normal_(m.weight, mode='fan_out', nonlinearity='relu')\n",
    "                if m.bias is not None:\n",
    "                    nn.init.constant_(m.bias, 0)\n",
    "            elif isinstance(m, nn.BatchNorm2d):\n",
    "                nn.init.constant_(m.weight, 1)\n",
    "                nn.init.constant_(m.bias, 0)\n",
    "            elif isinstance(m, nn.Linear):\n",
    "                nn.init.normal_(m.weight, 0, 0.01)\n",
    "                nn.init.constant_(m.bias, 0)\n",
    "\n",
    "\n",
    "    def make_layers(cfg, batch_norm=False):\n",
    "        layers = []\n",
    "        in_channels = 3\n",
    "        for v in cfg:\n",
    "            if v == 'M':\n",
    "                layers += [nn.MaxPool2d(kernel_size=2, stride=2)]\n",
    "            else:\n",
    "                conv2d = nn.Conv2d(in_channels, v, kernel_size=3, padding=1)\n",
    "                if batch_norm:\n",
    "                    layers += [conv2d, nn.BatchNorm2d(v), nn.ReLU(inplace=True)]\n",
    "                else:\n",
    "                    layers += [conv2d, nn.ReLU(inplace=True)]\n",
    "                in_channels = v\n",
    "        return nn.Sequential(*layers)\n",
    "    cfg = {\n",
    "        'A': [64, 'M', 128, 'M', 256, 256, 'M', 512, 512, 'M', 512, 512, 'M'],\n",
    "        'B': [64, 64, 'M', 128, 128, 'M', 256, 256, 'M', 512, 512, 'M', 512, 512, 'M'],\n",
    "        'D': [64, 64, 'M', 128, 128, 'M', 256, 256, 256, 'M', 512, 512, 512, 'M', 512, 512, 512, 'M'],\n",
    "        'E': [64, 64, 'M', 128, 128, 'M', 256, 256, 256, 256, 'M', 512, 512, 512, 512, 'M', 512, 512, 512, 512, 'M'],\n",
    "    }\n",
    "\n",
    "\n",
    "    def vgg11(pretrained=False, **kwargs):\n",
    "        \"\"\"VGG 11-layer model (configuration \"A\")\n",
    "        Args:\n",
    "            pretrained (bool): If True, returns a model pre-trained on ImageNet\n",
    "        \"\"\"\n",
    "        if pretrained:\n",
    "            kwargs['init_weights'] = False\n",
    "        model = VGG(make_layers(cfg['A']), **kwargs)\n",
    "        if pretrained:\n",
    "            model.load_state_dict(model_zoo.load_url(model_urls['vgg11']))\n",
    "        return model\n",
    "\n",
    "\n",
    "    def vgg11_bn(pretrained=False, **kwargs):\n",
    "        \"\"\"VGG 11-layer model (configuration \"A\") with batch normalization\n",
    "        Args:\n",
    "            pretrained (bool): If True, returns a model pre-trained on ImageNet\n",
    "        \"\"\"\n",
    "        if pretrained:\n",
    "            kwargs['init_weights'] = False\n",
    "        model = VGG(make_layers(cfg['A'], batch_norm=True), **kwargs)\n",
    "        if pretrained:\n",
    "            model.load_state_dict(model_zoo.load_url(model_urls['vgg11_bn']))\n",
    "        return model\n",
    "\n",
    "\n",
    "    def vgg13(pretrained=False, **kwargs):\n",
    "        \"\"\"VGG 13-layer model (configuration \"B\")\n",
    "        Args:\n",
    "            pretrained (bool): If True, returns a model pre-trained on ImageNet\n",
    "        \"\"\"\n",
    "        if pretrained:\n",
    "            kwargs['init_weights'] = False\n",
    "        model = VGG(make_layers(cfg['B']), **kwargs)\n",
    "        if pretrained:\n",
    "            model.load_state_dict(model_zoo.load_url(model_urls['vgg13']))\n",
    "        return model\n",
    "\n",
    "\n",
    "    def vgg13_bn(pretrained=False, **kwargs):\n",
    "        \"\"\"VGG 13-layer model (configuration \"B\") with batch normalization\n",
    "        Args:\n",
    "            pretrained (bool): If True, returns a model pre-trained on ImageNet\n",
    "        \"\"\"\n",
    "        if pretrained:\n",
    "            kwargs['init_weights'] = False\n",
    "        model = VGG(make_layers(cfg['B'], batch_norm=True), **kwargs)\n",
    "        if pretrained:\n",
    "            model.load_state_dict(model_zoo.load_url(model_urls['vgg13_bn']))\n",
    "        return model\n",
    "\n",
    "\n",
    "    def vgg16(pretrained=False, **kwargs):\n",
    "        \"\"\"VGG 16-layer model (configuration \"D\")\n",
    "        Args:\n",
    "            pretrained (bool): If True, returns a model pre-trained on ImageNet\n",
    "        \"\"\"\n",
    "        if pretrained:\n",
    "            kwargs['init_weights'] = False\n",
    "        model = VGG(make_layers(cfg['D']), **kwargs)\n",
    "        if pretrained:\n",
    "            model.load_state_dict(model_zoo.load_url(model_urls['vgg16']))\n",
    "        return model\n",
    "\n",
    "\n",
    "    def vgg16_bn(pretrained=False, **kwargs):\n",
    "        \"\"\"VGG 16-layer model (configuration \"D\") with batch normalization\n",
    "        Args:\n",
    "            pretrained (bool): If True, returns a model pre-trained on ImageNet\n",
    "        \"\"\"\n",
    "        if pretrained:\n",
    "            kwargs['init_weights'] = False\n",
    "        model = VGG(make_layers(cfg['D'], batch_norm=True), **kwargs)\n",
    "        if pretrained:\n",
    "            model.load_state_dict(model_zoo.load_url(model_urls['vgg16_bn']))\n",
    "        return model\n",
    "\n",
    "\n",
    "    def vgg19(pretrained=False, **kwargs):\n",
    "        \"\"\"VGG 19-layer model (configuration \"E\")\n",
    "        Args:\n",
    "            pretrained (bool): If True, returns a model pre-trained on ImageNet\n",
    "        \"\"\"\n",
    "        if pretrained:\n",
    "            kwargs['init_weights'] = False\n",
    "        model = VGG(make_layers(cfg['E']), **kwargs)\n",
    "        if pretrained:\n",
    "            model.load_state_dict(model_zoo.load_url(model_urls['vgg19']))\n",
    "        return model\n",
    "\n",
    "\n",
    "    def vgg19_bn(pretrained=False, **kwargs):\n",
    "        \"\"\"VGG 19-layer model (configuration 'E') with batch normalization\n",
    "        Args:\n",
    "            pretrained (bool): If True, returns a model pre-trained on ImageNet\n",
    "        \"\"\"\n",
    "        if pretrained:\n",
    "            kwargs['init_weights'] = False\n",
    "        model = VGG(make_layers(cfg['E'], batch_norm=True), **kwargs)\n",
    "        if pretrained:\n",
    "            model.load_state_dict(model_zoo.load_url(model_urls['vgg19_bn']))\n",
    "        return model"
   ]
  },
  {
   "cell_type": "code",
   "execution_count": null,
   "metadata": {
    "collapsed": true
   },
   "outputs": [],
   "source": []
  },
  {
   "cell_type": "markdown",
   "metadata": {},
   "source": [
    "#  Train the network"
   ]
  },
  {
   "cell_type": "code",
   "execution_count": null,
   "metadata": {
    "collapsed": true
   },
   "outputs": [],
   "source": [
    "x = tf.placeholder(tf.float32, (None, 32, 32, 1))\n",
    "y = tf.placeholder(tf.int32, (None))"
   ]
  },
  {
   "cell_type": "code",
   "execution_count": null,
   "metadata": {
    "collapsed": true
   },
   "outputs": [],
   "source": [
    "keep_prob = tf.placeholder(tf.float32)       # For fully-connected layers\n",
    "keep_prob_conv = tf.placeholder(tf.float32)  # For convolutional layers"
   ]
  },
  {
   "cell_type": "code",
   "execution_count": null,
   "metadata": {
    "collapsed": true
   },
   "outputs": [],
   "source": [
    "# validation set preprocessing\n",
    "X_valid_preprocessed = preprocess(X_valid)"
   ]
  },
  {
   "cell_type": "code",
   "execution_count": null,
   "metadata": {
    "collapsed": true
   },
   "outputs": [],
   "source": [
    "# initialize the number of epochs and batch size\n",
    "EPOCHS = 30\n",
    "BATCH_SIZE = 64"
   ]
  },
  {
   "cell_type": "code",
   "execution_count": null,
   "metadata": {
    "collapsed": true
   },
   "outputs": [],
   "source": [
    "# train using LeNet CNN\n",
    "LeNet_Model = LaNet(n_out = n_classes)\n",
    "model_name = \"LeNet\"\n",
    "\n",
    "with tf.Session() as sess:\n",
    "    sess.run(tf.global_variables_initializer())\n",
    "    num_examples = len(y_train)\n",
    "    print(\"Training ...\")\n",
    "    print()\n",
    "    for i in range(EPOCHS):\n",
    "        normalized_images, y_train = shuffle(normalized_images, y_train)\n",
    "        for offset in range(0, num_examples, BATCH_SIZE):\n",
    "            end = offset + BATCH_SIZE\n",
    "            batch_x, batch_y = normalized_images[offset:end], y_train[offset:end]\n",
    "            sess.run(LeNet_Model.training_operation, feed_dict={x: batch_x, y: batch_y, keep_prob : 0.5, keep_prob_conv: 0.7})\n",
    "            \n",
    "        validation_accuracy = LeNet_Model.evaluate(X_valid_preprocessed, y_valid)\n",
    "        print(\"EPOCH {} : Validation Accuracy = {:.3f}%\".format(i+1, (validation_accuracy*100)))"
   ]
  },
  {
   "cell_type": "code",
   "execution_count": null,
   "metadata": {
    "collapsed": true
   },
   "outputs": [],
   "source": [
    "# train using VGG CNN\n",
    "VGGNet_Model = VGGnet(n_out = n_classes)\n",
    "model_name = \"VGGNet\"\n",
    "\n",
    "# Validation set preprocessing\n",
    "X_valid_preprocessed = preprocess(X_valid)\n",
    "one_hot_y_valid = tf.one_hot(y_valid, 43)\n",
    "\n",
    "with tf.Session() as sess:\n",
    "    sess.run(tf.global_variables_initializer())\n",
    "    num_examples = len(y_train)\n",
    "    print(\"Training...\")\n",
    "    print()\n",
    "    for i in range(EPOCHS):\n",
    "        normalized_images, y_train = shuffle(normalized_images, y_train)\n",
    "        for offset in range(0, num_examples, BATCH_SIZE):\n",
    "            end = offset + BATCH_SIZE\n",
    "            batch_x, batch_y = normalized_images[offset:end], y_train[offset:end]\n",
    "            sess.run(VGGNet_Model.training_operation, \n",
    "            feed_dict={x: batch_x, y: batch_y, keep_prob : 0.5, keep_prob_conv: 0.7})\n",
    "\n",
    "        validation_accuracy = VGGNet_Model.evaluate(X_valid_preprocessed, y_valid)\n",
    "        print(\"EPOCH {} : Validation Accuracy = {:.3f}%\".format(i+1, (validation_accuracy*100)))"
   ]
  }
 ],
 "metadata": {
  "kernelspec": {
   "display_name": "Python 3",
   "language": "python",
   "name": "python3"
  },
  "language_info": {
   "codemirror_mode": {
    "name": "ipython",
    "version": 3
   },
   "file_extension": ".py",
   "mimetype": "text/x-python",
   "name": "python",
   "nbconvert_exporter": "python",
   "pygments_lexer": "ipython3",
   "version": "3.7.0"
  }
 },
 "nbformat": 4,
 "nbformat_minor": 2
}
