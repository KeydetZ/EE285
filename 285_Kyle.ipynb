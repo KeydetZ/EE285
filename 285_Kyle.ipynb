{
 "cells": [
  {
   "cell_type": "code",
   "execution_count": 1,
   "metadata": {
    "collapsed": true
   },
   "outputs": [],
   "source": [
    "# import needed libraries\n",
    "import pickle\n",
    "import numpy as np\n",
    "import matplotlib.pyplot as plt\n",
    "import random\n",
    "import cv2\n",
    "#import skimage.morphology as morp\n",
    "#from skimage.filters import rank\n",
    "from sklearn.utils import shuffle\n",
    "import csv\n",
    "import os\n",
    "import tensorflow as tf\n",
    "from tensorflow.contrib.layers import flatten\n",
    "from sklearn.metrics import confusion_matrix\n",
    "\n",
    "\n",
    "import numpy as np\n",
    "import tensorflow as tf\n",
    "from tensorflow import keras\n",
    "from matplotlib import pyplot\n",
    "import matplotlib.image as mpimg\n",
    "\n",
    "\n",
    "import math #test on server"
   ]
  },
  {
   "cell_type": "code",
   "execution_count": 2,
   "metadata": {},
   "outputs": [
    {
     "name": "stderr",
     "output_type": "stream",
     "text": [
      "Using TensorFlow backend.\n"
     ]
    }
   ],
   "source": [
    "from utility import *\n",
    "import keras\n",
    "from keras.models import Sequential \n",
    "from keras.layers import Input, Dense, Activation, Conv2D, MaxPooling2D, Flatten, Dropout"
   ]
  },
  {
   "cell_type": "code",
   "execution_count": 3,
   "metadata": {},
   "outputs": [
    {
     "name": "stdout",
     "output_type": "stream",
     "text": [
      "# benign: (421, 7500)\n",
      "# malignant: (196, 7500)\n",
      "dimension of images: 50\n"
     ]
    }
   ],
   "source": [
    "#load data in form of np array\n",
    "data_b = np.load('images_benign.npy')\n",
    "print(\"# benign:\", data_b.shape)\n",
    "\n",
    "data_m = np.load('images_mali.npy')\n",
    "print(\"# malignant:\", data_m.shape) \n",
    "\n",
    "dim = int(math.sqrt(data_b.shape[1] / 3 )) # dimension of the image\n",
    "print(\"dimension of images:\", dim)"
   ]
  },
  {
   "cell_type": "code",
   "execution_count": 4,
   "metadata": {},
   "outputs": [
    {
     "name": "stdout",
     "output_type": "stream",
     "text": [
      "original data shape: (617, 7500)\n"
     ]
    }
   ],
   "source": [
    "#vertically stack files\n",
    "data = np.vstack((data_b,data_m))\n",
    "print(\"original data shape:\", data.shape)\n",
    "\n",
    "# create labelset (benign = 1, malignant = 2)\n",
    "label_b = np.ones((data_b.shape[0],1),dtype=np.uint8) # an array of all zeros\n",
    "label_m = np.ones((data_m.shape[0],1),dtype=np.uint8) * 2 # an array of all ones\n",
    "label = np.vstack((label_b,label_m)) # all label"
   ]
  },
  {
   "cell_type": "code",
   "execution_count": 5,
   "metadata": {},
   "outputs": [
    {
     "name": "stdout",
     "output_type": "stream",
     "text": [
      "shuffled data shape: (617, 7500) shuffled label shape: (617,)\n",
      "# train: 444\n",
      "# valid: 49\n",
      "# test: 124\n",
      "# total: 617\n"
     ]
    }
   ],
   "source": [
    "data_train, label_train, data_valid, label_valid, data_test, label_test = train_test_shuffled_separation(data, label, train_percent= 0.8)"
   ]
  },
  {
   "cell_type": "code",
   "execution_count": 7,
   "metadata": {},
   "outputs": [
    {
     "ename": "NameError",
     "evalue": "name 'label_to_one_hot' is not defined",
     "output_type": "error",
     "traceback": [
      "\u001b[0;31m---------------------------------------------------------------------------\u001b[0m",
      "\u001b[0;31mNameError\u001b[0m                                 Traceback (most recent call last)",
      "\u001b[0;32m<ipython-input-7-57952b8984ac>\u001b[0m in \u001b[0;36m<module>\u001b[0;34m()\u001b[0m\n\u001b[0;32m----> 1\u001b[0;31m \u001b[0mlabel_train\u001b[0m \u001b[0;34m=\u001b[0m \u001b[0mlabel_to_one_hot\u001b[0m\u001b[0;34m(\u001b[0m\u001b[0mlabel_train\u001b[0m\u001b[0;34m)\u001b[0m\u001b[0;34m\u001b[0m\u001b[0m\n\u001b[0m\u001b[1;32m      2\u001b[0m \u001b[0mlabel_valid\u001b[0m \u001b[0;34m=\u001b[0m \u001b[0mlabel_to_one_hot\u001b[0m\u001b[0;34m(\u001b[0m\u001b[0mlabel_valid\u001b[0m\u001b[0;34m)\u001b[0m\u001b[0;34m\u001b[0m\u001b[0m\n\u001b[1;32m      3\u001b[0m \u001b[0mlabel_test\u001b[0m \u001b[0;34m=\u001b[0m \u001b[0mlabel_to_one_hot\u001b[0m\u001b[0;34m(\u001b[0m\u001b[0mlabel_test\u001b[0m\u001b[0;34m)\u001b[0m\u001b[0;34m\u001b[0m\u001b[0m\n",
      "\u001b[0;31mNameError\u001b[0m: name 'label_to_one_hot' is not defined"
     ]
    }
   ],
   "source": [
    "label_train = label_to_one_hot(label_train)\n",
    "label_valid = label_to_one_hot(label_valid)\n",
    "label_test = label_to_one_hot(label_test)"
   ]
  },
  {
   "cell_type": "code",
   "execution_count": null,
   "metadata": {
    "collapsed": true
   },
   "outputs": [],
   "source": []
  }
 ],
 "metadata": {
  "kernelspec": {
   "display_name": "Python 3",
   "language": "python",
   "name": "python3"
  },
  "language_info": {
   "codemirror_mode": {
    "name": "ipython",
    "version": 3
   },
   "file_extension": ".py",
   "mimetype": "text/x-python",
   "name": "python",
   "nbconvert_exporter": "python",
   "pygments_lexer": "ipython3",
   "version": "3.6.3"
  }
 },
 "nbformat": 4,
 "nbformat_minor": 2
}
